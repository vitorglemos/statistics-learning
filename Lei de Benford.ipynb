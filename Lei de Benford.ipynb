{
 "cells": [
  {
   "cell_type": "code",
   "execution_count": 118,
   "metadata": {},
   "outputs": [],
   "source": [
    "import numpy as np\n",
    "import pandas as pd\n",
    "import matplotlib.pyplot as plt\n",
    "from matplotlib.pyplot import figure\n",
    "\n",
    "df = pd.read_csv(\"covid_19_clean_complete.csv\")\n",
    "confirmed, deaths = df[\"Confirmed\"], df[\"Deaths\"]"
   ]
  },
  {
   "cell_type": "code",
   "execution_count": 119,
   "metadata": {},
   "outputs": [
    {
     "data": {
      "text/plain": [
       "0    0\n",
       "1    0\n",
       "2    0\n",
       "3    0\n",
       "4    0\n",
       "5    0\n",
       "6    0\n",
       "7    0\n",
       "8    0\n",
       "9    0\n",
       "Name: Confirmed, dtype: int64"
      ]
     },
     "execution_count": 119,
     "metadata": {},
     "output_type": "execute_result"
    }
   ],
   "source": [
    "confirmed.head(10)"
   ]
  },
  {
   "cell_type": "code",
   "execution_count": 120,
   "metadata": {},
   "outputs": [
    {
     "data": {
      "text/plain": [
       "0    0\n",
       "1    0\n",
       "2    0\n",
       "3    0\n",
       "4    0\n",
       "5    0\n",
       "6    0\n",
       "7    0\n",
       "8    0\n",
       "9    0\n",
       "Name: Deaths, dtype: int64"
      ]
     },
     "execution_count": 120,
     "metadata": {},
     "output_type": "execute_result"
    }
   ],
   "source": [
    "deaths.head(10)"
   ]
  },
  {
   "cell_type": "code",
   "execution_count": 121,
   "metadata": {},
   "outputs": [],
   "source": [
    "def count_occur_numbers(dataframe):\n",
    "    count_total = 0\n",
    "    number_occur = {}\n",
    "    for current in dataframe:\n",
    "        for number in str(current):\n",
    "            number = int(number)\n",
    "            if number != 0:\n",
    "                if number not in number_occur:\n",
    "                    number_occur[number] = 0\n",
    "                number_occur[number] += 1\n",
    "                count_total = count_total + 1\n",
    "    return number_occur\n",
    "\n",
    "def number_probability(number_occur, total):\n",
    "    probability = list()\n",
    "    indexes = list()\n",
    "    for index in number_occur:\n",
    "        indexes.append(index[0])\n",
    "        probability.append(round(index[1] / total, 4))\n",
    "    return indexes, probability"
   ]
  },
  {
   "cell_type": "code",
   "execution_count": 122,
   "metadata": {},
   "outputs": [],
   "source": [
    "number_occur = count_occur_numbers(deaths)\n",
    "total_sum = sum(number_occur.values())\n",
    "number_occur = sorted(number_occur.items(), key=lambda x: x[1], reverse=True)"
   ]
  },
  {
   "cell_type": "code",
   "execution_count": 123,
   "metadata": {},
   "outputs": [],
   "source": [
    "indexes, probability = number_probability(number_occur, total_sum)"
   ]
  },
  {
   "cell_type": "code",
   "execution_count": 124,
   "metadata": {},
   "outputs": [],
   "source": [
    "def distribution_plot(X, y):\n",
    "    figure(figsize=(8, 6), dpi=80)\n",
    "    plt.scatter(X, y)\n",
    "\n",
    "    z = np.polyfit(X, y, 1)\n",
    "    p = np.poly1d(z)\n",
    "    \n",
    "    plt.plot(X, p(X),\"r--\")\n",
    "    plt.xticks(np.arange(len(X)))\n",
    "    plt.title(\"Probability\")\n",
    "    plt.xlabel(\"Number occur\")\n",
    "    plt.ylabel(\"Proba\")\n",
    "    plt.bar(X, y)"
   ]
  },
  {
   "cell_type": "code",
   "execution_count": 127,
   "metadata": {},
   "outputs": [
    {
     "data": {
      "image/png": "[encoded data removed]",
      "text/plain": [
       "<Figure size 640x480 with 1 Axes>"
      ]
     },
     "metadata": {
      "needs_background": "light"
     },
     "output_type": "display_data"
    }
   ],
   "source": [
    "distribution_plot(X=indexes, y=probability)"
   ]
  }
 ],
 "metadata": {
  "kernelspec": {
   "display_name": "Python 3",
   "language": "python",
   "name": "python3"
  },
  "language_info": {
   "codemirror_mode": {
    "name": "ipython",
    "version": 3
   },
   "file_extension": ".py",
   "mimetype": "text/x-python",
   "name": "python",
   "nbconvert_exporter": "python",
   "pygments_lexer": "ipython3",
   "version": "3.8.10"
  }
 },
 "nbformat": 4,
 "nbformat_minor": 4
}
